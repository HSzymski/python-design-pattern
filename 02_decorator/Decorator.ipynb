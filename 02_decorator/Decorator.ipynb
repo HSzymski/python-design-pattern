{
 "cells": [
  {
   "cell_type": "markdown",
   "id": "483b8fed-744f-4f60-bbd8-3755742c6fc7",
   "metadata": {},
   "source": [
    "# Decorator"
   ]
  },
  {
   "cell_type": "markdown",
   "id": "ca68b632-e86c-4e31-84be-f69512ebbd3d",
   "metadata": {},
   "source": [
    "- Decorator is an object, which takes another object as it's argument (doesn't matter, whether this object is a function, class or method)\n",
    "- Since Python 2.4: PEP 318 -- Decorators for Functions and Methods\n",
    "- Since Python 3.9: PEP 614 -- Relaxing Grammar Restrictions On Decorators\n",
    "- Decorator can:\n",
    "    - do things before call\n",
    "    - do things after call\n",
    "    - modify arguments\n",
    "    - modify returned value\n",
    "    - avoid calling\n",
    "    - modify globals\n",
    "    - add or change metadata\n",
    "    \n"
   ]
  },
  {
   "cell_type": "markdown",
   "id": "199130b3-ee64-417b-b431-0836228a49e2",
   "metadata": {},
   "source": [
    "## Decorator Function"
   ]
  },
  {
   "cell_type": "markdown",
   "id": "4e0f11ba-f5c7-4181-8f55-6e4127169a60",
   "metadata": {},
   "source": [
    "Decorating function by convention use ```func``` or ```fn```"
   ]
  },
  {
   "cell_type": "code",
   "execution_count": 2,
   "id": "58c36533-0f24-4b10-9635-5e79501cf230",
   "metadata": {},
   "outputs": [],
   "source": [
    "def mydecorator(func):\n",
    "    def wrapper(*args, **kwargs):\n",
    "        return func(*args, **kwargs)\n",
    "    return wrapper\n",
    "\n",
    "\n",
    "@mydecorator\n",
    "def myfunction(*args, **kwargs):\n",
    "    pass"
   ]
  },
  {
   "cell_type": "markdown",
   "id": "a9f59e7b-b004-4bf2-b464-9a87ec347af8",
   "metadata": {},
   "source": [
    "```python\n",
    "@mydecorator\n",
    "def myfunction(*args, **kwargs):\n",
    "    ...\n",
    "```\n",
    "    \n",
    "is equivalent to:\n",
    "\n",
    "```python\n",
    "myfunction = mydecorator(myfunction)\n",
    "```"
   ]
  },
  {
   "cell_type": "markdown",
   "id": "46cbbd83-5dda-4d5c-b2d1-69e102b4a223",
   "metadata": {},
   "source": [
    "Decorator also can be built with class containing \\__init__ and \\__call__ methods"
   ]
  },
  {
   "cell_type": "code",
   "execution_count": null,
   "id": "8dba0eaf-3d63-4b21-92b0-d4ac41edc12f",
   "metadata": {},
   "outputs": [],
   "source": [
    "class MyDecorator:\n",
    "    def __init__(self, func):\n",
    "        self.func = func\n",
    "\n",
    "    def __call__(self, *args, **kwargs):\n",
    "        return self.func(*args, **kwargs)"
   ]
  },
  {
   "cell_type": "markdown",
   "id": "499bef20-fd03-4f5f-8e2a-d8a5f0c8bd5a",
   "metadata": {
    "tags": []
   },
   "source": [
    "## Decorator Method"
   ]
  },
  {
   "cell_type": "markdown",
   "id": "aa1365ba-5dea-436b-abef-4b0c9f5be00f",
   "metadata": {},
   "source": [
    "### Definition"
   ]
  },
  {
   "cell_type": "code",
   "execution_count": 4,
   "id": "c8176964-aacc-4979-b380-7989c9299dfb",
   "metadata": {},
   "outputs": [],
   "source": [
    "class MyClass:\n",
    "    @staticmethod\n",
    "    def mydecorator(obj):\n",
    "        ..."
   ]
  },
  {
   "cell_type": "markdown",
   "id": "9d80baa8-d611-4748-b342-0407bff258e8",
   "metadata": {},
   "source": [
    "### Usage"
   ]
  },
  {
   "cell_type": "code",
   "execution_count": 5,
   "id": "2899e0dc-72ed-4270-80ab-7c7aa7a4f6bc",
   "metadata": {},
   "outputs": [],
   "source": [
    "@MyClass.mydecorator\n",
    "def say_hello():\n",
    "    return 'hello'"
   ]
  },
  {
   "cell_type": "code",
   "execution_count": 6,
   "id": "24dd3df0-b21d-442f-89e4-ca812f7ebdf0",
   "metadata": {},
   "outputs": [],
   "source": [
    "@MyClass.mydecorator\n",
    "class Astronaut:\n",
    "    def say_hello():\n",
    "        return 'hello'"
   ]
  },
  {
   "cell_type": "code",
   "execution_count": 7,
   "id": "0025c43c-9085-41fc-aaec-ed6ee8b2af96",
   "metadata": {},
   "outputs": [],
   "source": [
    "class Astronaut:\n",
    "    @MyClass.mydecorator\n",
    "    def say_hello():\n",
    "        return 'hello'"
   ]
  },
  {
   "cell_type": "markdown",
   "id": "0c4d9b93-3509-4a10-af5f-0f14770d604e",
   "metadata": {},
   "source": [
    "## Decorator Class"
   ]
  },
  {
   "cell_type": "markdown",
   "id": "02200d13-008c-4008-94d4-83cf39104893",
   "metadata": {},
   "source": [
    "Decorator is a class which takes another object as an argument to ```__init__()``` method"
   ]
  },
  {
   "cell_type": "markdown",
   "id": "ea0aa0f3-23a7-4db3-a2c3-85cba6e36c1a",
   "metadata": {},
   "source": [
    "### Definition"
   ]
  },
  {
   "cell_type": "markdown",
   "id": "88468416-0692-4541-94f6-ee9c3cee843b",
   "metadata": {},
   "source": [
    "Decorating class by convention use ```cls```"
   ]
  },
  {
   "cell_type": "code",
   "execution_count": 8,
   "id": "c782fab4-2c5e-4e0a-8265-600a84a0a988",
   "metadata": {},
   "outputs": [],
   "source": [
    "class MyDecorator:\n",
    "    def __init__(self, cls):\n",
    "        ..."
   ]
  },
  {
   "cell_type": "code",
   "execution_count": null,
   "id": "b0ec6594-5feb-414b-80af-6db6b4b7f7df",
   "metadata": {},
   "outputs": [],
   "source": [
    "def mydecorator(cls):\n",
    "    ..."
   ]
  },
  {
   "cell_type": "markdown",
   "id": "67371126-8b52-4f2a-bdd2-b10014c4e2cb",
   "metadata": {},
   "source": [
    "### Usage"
   ]
  },
  {
   "cell_type": "code",
   "execution_count": 9,
   "id": "02dffc0e-f766-43be-b3a1-26cae7e313e4",
   "metadata": {},
   "outputs": [],
   "source": [
    "@MyDecorator\n",
    "def say_hello():\n",
    "    return 'hello'"
   ]
  },
  {
   "cell_type": "code",
   "execution_count": 10,
   "id": "d3838d0b-ea29-4016-880c-feb49b600772",
   "metadata": {},
   "outputs": [],
   "source": [
    "@MyDecorator\n",
    "class Astronaut:\n",
    "    def say_hello():\n",
    "        return 'hello'"
   ]
  },
  {
   "cell_type": "code",
   "execution_count": 11,
   "id": "18f3045d-f046-4ae6-bdc6-114a72e67958",
   "metadata": {},
   "outputs": [],
   "source": [
    "class Astronaut:\n",
    "    @MyDecorator\n",
    "    def say_hello():\n",
    "        return 'hello'"
   ]
  },
  {
   "cell_type": "markdown",
   "id": "1dbac5bd-9fd8-471b-b945-efeccd75d8d1",
   "metadata": {},
   "source": [
    "## Decorator Wrapper"
   ]
  },
  {
   "cell_type": "markdown",
   "id": "5fd2d519-285c-4e64-9c2f-755a37116f11",
   "metadata": {},
   "source": [
    "Decorator Wrapper is used to wrap function, lambda, class, method. \n",
    "\n",
    "Name wrapper is just a convention. Underscore _ is a normal identifier name which can be used as a wrapper name. Note, that this is a bit less readable."
   ]
  },
  {
   "cell_type": "code",
   "execution_count": 12,
   "id": "0da972f0-ffe9-4a6c-aed1-b8701f939302",
   "metadata": {},
   "outputs": [],
   "source": [
    "def mydecorator(obj):\n",
    "    def wrapper():\n",
    "        \\\n",
    "        \n",
    "        ...\n",
    "    return wrapper"
   ]
  },
  {
   "cell_type": "markdown",
   "id": "d55aad0f-a46b-41cd-922c-a4892f3f3bd3",
   "metadata": {},
   "source": [
    "### Wrapper function"
   ]
  },
  {
   "cell_type": "code",
   "execution_count": 13,
   "id": "908dc700-3d7d-48af-ac3f-da63b413fed5",
   "metadata": {},
   "outputs": [],
   "source": [
    "def mydecorator(obj):\n",
    "    def wrapper(*args, **kwargs):\n",
    "        ...\n",
    "    return wrapper"
   ]
  },
  {
   "cell_type": "markdown",
   "id": "8645bfb0-8af0-470b-9c0e-d04a21c2c2dd",
   "metadata": {},
   "source": [
    "### Wrapper lambda"
   ]
  },
  {
   "cell_type": "code",
   "execution_count": 14,
   "id": "2d850c9b-0003-49e2-85af-8a475f34140b",
   "metadata": {},
   "outputs": [],
   "source": [
    "def mydecorator(obj):\n",
    "    return lambda *args, **kwargs: obj(*args, **kwargs)"
   ]
  },
  {
   "cell_type": "markdown",
   "id": "0dfba712-1bb5-4e6a-b8b7-499957b03a0a",
   "metadata": {},
   "source": [
    "### Wrapper class"
   ]
  },
  {
   "cell_type": "markdown",
   "id": "a5f7524a-145b-42e3-96bc-b3820e62f659",
   "metadata": {},
   "source": [
    "If obj and Wrapper are classes, Wrapper can inherit from obj (to extend it)"
   ]
  },
  {
   "cell_type": "code",
   "execution_count": 15,
   "id": "2463b533-2244-4867-9f7c-a04747b71528",
   "metadata": {},
   "outputs": [],
   "source": [
    "def mydecorator(obj):\n",
    "    class Wrapper:\n",
    "        def __init__(self, *args, **kwargs):\n",
    "            ...\n",
    "    return Wrapper"
   ]
  },
  {
   "cell_type": "code",
   "execution_count": 16,
   "id": "73d9c0c3-e15e-43c7-8f8c-263c12f7dba6",
   "metadata": {},
   "outputs": [],
   "source": [
    "def mydecorator(obj):\n",
    "    class Wrapper(obj):\n",
    "        def __init__(self, *args, **kwargs):\n",
    "            ...\n",
    "    return Wrapper"
   ]
  },
  {
   "cell_type": "markdown",
   "id": "3c8f9581-4ced-450e-a9de-8ff75d17760c",
   "metadata": {},
   "source": [
    "### Wrapper arguments"
   ]
  },
  {
   "cell_type": "markdown",
   "id": "047e5297-3199-44c0-89b1-45e1ab46c3d3",
   "metadata": {},
   "source": [
    "If you know names of the arguments you can use it in wrapper. ```args``` arbitrary number of positional arguments. ```kwargs``` arbitrary number of keyword arguments."
   ]
  },
  {
   "cell_type": "code",
   "execution_count": 17,
   "id": "f8d876e2-44aa-43d1-b87c-ce425fb964ea",
   "metadata": {},
   "outputs": [],
   "source": [
    "def mydecorator(obj):\n",
    "    def wrapper(a, b):\n",
    "        return func(a, b)\n",
    "    return wrapper"
   ]
  },
  {
   "cell_type": "markdown",
   "id": "f8136051-235a-4f6b-a595-b4967b12ff84",
   "metadata": {},
   "source": [
    "## Decorate function"
   ]
  },
  {
   "cell_type": "markdown",
   "id": "fd1ac166-224c-4a30-93dc-51f7e417c2b7",
   "metadata": {},
   "source": [
    "- Decorator must return reference to wrapper. \n",
    "- wrapper is a closure function\n",
    "- wrapper name is a convention, but you can name it anyhow\n",
    "- wrapper gets arguments passed to function"
   ]
  },
  {
   "cell_type": "markdown",
   "id": "cb8df9b4-ca97-4ca9-b14b-8e175bfd3dcb",
   "metadata": {},
   "source": [
    "### Example usage"
   ]
  },
  {
   "cell_type": "code",
   "execution_count": 24,
   "id": "89c0851c-2905-4bf9-8766-e573e07d8867",
   "metadata": {},
   "outputs": [],
   "source": [
    "import os\n",
    "\n",
    "def if_exists(func):\n",
    "    def wrapper(file):\n",
    "        if os.path.exists(file):\n",
    "            return func(file)\n",
    "        else:\n",
    "            print(f'File {file} does not exist')\n",
    "    return wrapper\n",
    "\n",
    "@if_exists\n",
    "def display(file):\n",
    "    print(f'File {file} exist')"
   ]
  },
  {
   "cell_type": "code",
   "execution_count": 25,
   "id": "21aaf8e4-7d46-46f6-a82b-d7c690a3a751",
   "metadata": {},
   "outputs": [
    {
     "name": "stdout",
     "output_type": "stream",
     "text": [
      "File Decorator.ipynb exist\n"
     ]
    }
   ],
   "source": [
    "display('Decorator.ipynb')"
   ]
  },
  {
   "cell_type": "code",
   "execution_count": 26,
   "id": "a0c25580-e527-417c-9e30-0facde29c70a",
   "metadata": {},
   "outputs": [
    {
     "name": "stdout",
     "output_type": "stream",
     "text": [
      "File File_which_not_exist.abc does not exist\n"
     ]
    }
   ],
   "source": [
    "display('File_which_not_exist.abc')"
   ]
  },
  {
   "cell_type": "markdown",
   "id": "8a1e1dc2-4cb1-4f99-9441-41956fac732d",
   "metadata": {},
   "source": [
    "### Example usage 2"
   ]
  },
  {
   "cell_type": "code",
   "execution_count": 64,
   "id": "e60994ab-9d65-4993-a596-3aa8f977b427",
   "metadata": {},
   "outputs": [],
   "source": [
    "from time import time\n",
    "\n",
    "def timeit(func):\n",
    "    def wrapper(*args, **kwargs):\n",
    "        start = time()\n",
    "        result = func(*args, **kwargs)\n",
    "        end = time()\n",
    "        print(f'Duration: {end-start}')\n",
    "        return result\n",
    "    return wrapper\n",
    "\n",
    "@timeit\n",
    "def add_ab(a, b):\n",
    "    return a+b"
   ]
  },
  {
   "cell_type": "code",
   "execution_count": 31,
   "id": "c9e4db02-9bb7-460a-8a4a-85c6124acda0",
   "metadata": {},
   "outputs": [
    {
     "name": "stdout",
     "output_type": "stream",
     "text": [
      "Duration: 0.0\n"
     ]
    },
    {
     "data": {
      "text/plain": [
       "3"
      ]
     },
     "execution_count": 31,
     "metadata": {},
     "output_type": "execute_result"
    }
   ],
   "source": [
    "add_ab(1, 2)"
   ]
  },
  {
   "cell_type": "code",
   "execution_count": 33,
   "id": "d9b3cd92-af8c-49d5-beee-185277df05b8",
   "metadata": {},
   "outputs": [
    {
     "name": "stdout",
     "output_type": "stream",
     "text": [
      "Duration: 0.0\n"
     ]
    },
    {
     "data": {
      "text/plain": [
       "3"
      ]
     },
     "execution_count": 33,
     "metadata": {},
     "output_type": "execute_result"
    }
   ],
   "source": [
    "add_ab(1, b=2)"
   ]
  },
  {
   "cell_type": "code",
   "execution_count": 34,
   "id": "be291c0c-5489-46bb-aca0-8e2b9af20650",
   "metadata": {},
   "outputs": [
    {
     "name": "stdout",
     "output_type": "stream",
     "text": [
      "Duration: 0.0\n"
     ]
    },
    {
     "data": {
      "text/plain": [
       "3"
      ]
     },
     "execution_count": 34,
     "metadata": {},
     "output_type": "execute_result"
    }
   ],
   "source": [
    "add_ab(a=1, b=2)"
   ]
  },
  {
   "cell_type": "markdown",
   "id": "16aca5cb-a791-4d58-a80b-9d0fa909a047",
   "metadata": {},
   "source": [
    "### Example usage 3"
   ]
  },
  {
   "cell_type": "code",
   "execution_count": 65,
   "id": "4e3409a1-3074-4d9e-a8a5-699d8907b616",
   "metadata": {},
   "outputs": [],
   "source": [
    "def debug(func):\n",
    "    def wrapper(*args, **kwargs):\n",
    "        func_name = func.__name__\n",
    "        results = func(*args, **kwargs)\n",
    "        print(f'Function {func_name=}, {args=}, {kwargs=}')\n",
    "        return results\n",
    "    return wrapper"
   ]
  },
  {
   "cell_type": "code",
   "execution_count": 49,
   "id": "2c3436f9-cb57-42e1-82cb-02e11e7ae3ff",
   "metadata": {},
   "outputs": [],
   "source": [
    "@debug\n",
    "def add_ab(a, b):\n",
    "    return a+b"
   ]
  },
  {
   "cell_type": "code",
   "execution_count": 50,
   "id": "d761c5af-e9f5-46ad-9b31-7fb7b29782cd",
   "metadata": {},
   "outputs": [
    {
     "name": "stdout",
     "output_type": "stream",
     "text": [
      "Function func_name='add_ab', args=(1, 2), kwargs={}\n"
     ]
    },
    {
     "data": {
      "text/plain": [
       "3"
      ]
     },
     "execution_count": 50,
     "metadata": {},
     "output_type": "execute_result"
    }
   ],
   "source": [
    "add_ab(1, 2)"
   ]
  },
  {
   "cell_type": "code",
   "execution_count": 54,
   "id": "0dca054a-0175-46a8-b1b8-bb3009384194",
   "metadata": {},
   "outputs": [
    {
     "data": {
      "text/plain": [
       "2"
      ]
     },
     "execution_count": 54,
     "metadata": {},
     "output_type": "execute_result"
    }
   ],
   "source": [
    "add_ab.__name__\n",
    "add_ab.__code__.co_filename\n",
    "add_ab.__code__.co_firstlineno"
   ]
  },
  {
   "cell_type": "markdown",
   "id": "1b0a6da1-b437-4dfd-92b8-0398e2095d87",
   "metadata": {},
   "source": [
    "### Example usage 4"
   ]
  },
  {
   "cell_type": "code",
   "execution_count": 69,
   "id": "cdd04021-db83-4b42-8fdd-a69eb77cef01",
   "metadata": {},
   "outputs": [],
   "source": [
    "def set_unit(unit):\n",
    "    def decorator_set_unit(func): \n",
    "        func.unit = unit\n",
    "        \n",
    "        return func\n",
    "    return decorator_set_unit"
   ]
  },
  {
   "cell_type": "code",
   "execution_count": 70,
   "id": "5c422df4-d648-4e61-83e4-527fd3cb0c13",
   "metadata": {},
   "outputs": [],
   "source": [
    "@set_unit(\"cm^3\")\n",
    "def volume(radius, height):\n",
    "    import math \n",
    "    \n",
    "    return math.pi * radius**2 * height"
   ]
  },
  {
   "cell_type": "code",
   "execution_count": 71,
   "id": "a8f9094d-1fc7-499a-8700-09ca008903f4",
   "metadata": {},
   "outputs": [
    {
     "data": {
      "text/plain": [
       "'cm^3'"
      ]
     },
     "execution_count": 71,
     "metadata": {},
     "output_type": "execute_result"
    }
   ],
   "source": [
    "volume.unit"
   ]
  },
  {
   "cell_type": "markdown",
   "id": "f1dbfb4c-bfc8-4c7c-a92c-9263d0d1549b",
   "metadata": {},
   "source": [
    "The same thing can be achieved using annotations"
   ]
  },
  {
   "cell_type": "code",
   "execution_count": 72,
   "id": "86d14772-6fa0-494c-89f6-e53dee3bfd70",
   "metadata": {},
   "outputs": [],
   "source": [
    "def volume(radius, height) -> \"cm^3\":\n",
    "    import math \n",
    "    \n",
    "    return math.pi * radius**2 * height"
   ]
  },
  {
   "cell_type": "code",
   "execution_count": 75,
   "id": "0362c54e-3295-4520-a597-585bad2cf830",
   "metadata": {},
   "outputs": [
    {
     "data": {
      "text/plain": [
       "{'return': 'cm^3'}"
      ]
     },
     "execution_count": 75,
     "metadata": {},
     "output_type": "execute_result"
    }
   ],
   "source": [
    "volume.__annotations__"
   ]
  },
  {
   "cell_type": "markdown",
   "id": "a6eabebb-6474-437a-97af-0fdccd0da96f",
   "metadata": {},
   "source": [
    "### Stacking decorators"
   ]
  },
  {
   "cell_type": "code",
   "execution_count": 68,
   "id": "6a55067c-13ba-4c9a-b20e-3b484e8d8354",
   "metadata": {},
   "outputs": [],
   "source": [
    "@timeit\n",
    "@debug\n",
    "def add_ab(a, b):\n",
    "    return a + b"
   ]
  },
  {
   "cell_type": "code",
   "execution_count": 69,
   "id": "88546c24-2461-4833-96fe-cd9613f0b9d7",
   "metadata": {},
   "outputs": [
    {
     "name": "stdout",
     "output_type": "stream",
     "text": [
      "Function func_name='add_ab', args=(1, 2), kwargs={}\n",
      "Duration: 0.0\n"
     ]
    },
    {
     "data": {
      "text/plain": [
       "3"
      ]
     },
     "execution_count": 69,
     "metadata": {},
     "output_type": "execute_result"
    }
   ],
   "source": [
    "add_ab(1, 2)"
   ]
  },
  {
   "cell_type": "markdown",
   "id": "7eb1ba7f-e208-42e0-a88e-6511c41faab2",
   "metadata": {},
   "source": [
    "$\\textbf{Print using logging library}$"
   ]
  },
  {
   "cell_type": "code",
   "execution_count": 71,
   "id": "5d7896d1-43a3-495a-8278-9b21dbf99f7d",
   "metadata": {},
   "outputs": [],
   "source": [
    "import logging \n",
    "\n",
    "logging.basicConfig(\n",
    "    level='DEBUG',\n",
    "    format='{asctime}, \"{levelname}\", \"{message}\"',\n",
    "    datefmt='\"%Y-%m-%d\", \"%H:%M:%S\"',\n",
    "    style='{')\n",
    "\n",
    "log = logging.getLogger(__name__)"
   ]
  },
  {
   "cell_type": "code",
   "execution_count": 72,
   "id": "cf5ebcee-8f14-4bf5-90fe-876df66b86a2",
   "metadata": {},
   "outputs": [],
   "source": [
    "def timeit(func):\n",
    "    def wrapper(*args, **kwargs):\n",
    "        start = time()\n",
    "        result = func(*args, **kwargs)\n",
    "        end = time()\n",
    "        log.info(f'Duration: {end-start}')\n",
    "        return result\n",
    "    return wrapper\n",
    "\n",
    "def debug(func):\n",
    "    def wrapper(*args, **kwargs):\n",
    "        func_name = func.__name__\n",
    "        log.debug(f'Function {func_name=}, {args=}, {kwargs=}')\n",
    "        results = func(*args, **kwargs)\n",
    "        return results\n",
    "    return wrapper"
   ]
  },
  {
   "cell_type": "code",
   "execution_count": 73,
   "id": "e4d10493-8737-4ac9-9ff5-bf66331fe11b",
   "metadata": {},
   "outputs": [],
   "source": [
    "@timeit\n",
    "@debug\n",
    "def add_ab(a, b):\n",
    "    return a + b"
   ]
  },
  {
   "cell_type": "code",
   "execution_count": 74,
   "id": "8f66ec7d-9534-4e44-a2bb-9a40c7459c2d",
   "metadata": {},
   "outputs": [
    {
     "name": "stderr",
     "output_type": "stream",
     "text": [
      "\"2024-04-30\", \"12:20:10\", \"DEBUG\", \"Function func_name='add_ab', args=(1, 2), kwargs={}\"\n",
      "\"2024-04-30\", \"12:20:10\", \"INFO\", \"Duration: 0.0019872188568115234\"\n"
     ]
    },
    {
     "data": {
      "text/plain": [
       "3"
      ]
     },
     "execution_count": 74,
     "metadata": {},
     "output_type": "execute_result"
    }
   ],
   "source": [
    "add_ab(1, 2)"
   ]
  },
  {
   "cell_type": "markdown",
   "id": "db35c214-1081-48cb-a665-20f291e8e027",
   "metadata": {},
   "source": [
    "### Retrieve information from different scopes"
   ]
  },
  {
   "cell_type": "markdown",
   "id": "ee9e0503-8617-411f-afb2-480ee7c93187",
   "metadata": {},
   "source": [
    "$\\textbf{Global}$"
   ]
  },
  {
   "cell_type": "code",
   "execution_count": 79,
   "id": "95087d2a-6d5f-4ea8-a679-354e68802168",
   "metadata": {},
   "outputs": [
    {
     "data": {
      "text/plain": [
       "120"
      ]
     },
     "execution_count": 79,
     "metadata": {},
     "output_type": "execute_result"
    }
   ],
   "source": [
    "_cache = {}\n",
    "\n",
    "def cache_global(func):\n",
    "    def wrapper(n):\n",
    "        if n not in _cache:\n",
    "            _cache[n] = func(n)\n",
    "        return _cache[n]\n",
    "    return wrapper\n",
    "\n",
    "@cache_global\n",
    "def factorial(n):\n",
    "    if n == 0:\n",
    "        return 1\n",
    "    else:\n",
    "        return n * factorial(n-1)\n",
    "\n",
    "\n",
    "factorial(5)"
   ]
  },
  {
   "cell_type": "code",
   "execution_count": 80,
   "id": "92cbf696-5c31-4701-8287-72a3c49a7b19",
   "metadata": {},
   "outputs": [
    {
     "name": "stdout",
     "output_type": "stream",
     "text": [
      "{0: 1, 1: 1, 2: 2, 3: 6, 4: 24, 5: 120}\n"
     ]
    }
   ],
   "source": [
    "print(_cache)"
   ]
  },
  {
   "cell_type": "markdown",
   "id": "bae176ae-bd45-4536-8721-db4a65df9e8b",
   "metadata": {},
   "source": [
    "$\\textbf{Local}$"
   ]
  },
  {
   "cell_type": "code",
   "execution_count": 82,
   "id": "d4c42ba4-5285-4b95-8ab5-a85ee2ffe956",
   "metadata": {},
   "outputs": [],
   "source": [
    "del _cache"
   ]
  },
  {
   "cell_type": "code",
   "execution_count": 83,
   "id": "c40fbe19-9e9d-439b-8815-2863ca41505a",
   "metadata": {},
   "outputs": [
    {
     "data": {
      "text/plain": [
       "120"
      ]
     },
     "execution_count": 83,
     "metadata": {},
     "output_type": "execute_result"
    }
   ],
   "source": [
    "def cache_local(func):\n",
    "    _cache = {}\n",
    "    def wrapper(n):\n",
    "        if n not in _cache:\n",
    "            _cache[n] = func(n)\n",
    "        return _cache[n]\n",
    "    return wrapper\n",
    "\n",
    "@cache_local\n",
    "def factorial(n):\n",
    "    if n == 0:\n",
    "        return 1\n",
    "    else:\n",
    "        return n * factorial(n-1)\n",
    "\n",
    "\n",
    "factorial(5)"
   ]
  },
  {
   "cell_type": "code",
   "execution_count": 84,
   "id": "11bb9623-9590-4c19-aeae-fa76dd1c3dc7",
   "metadata": {},
   "outputs": [
    {
     "ename": "NameError",
     "evalue": "name '_cache' is not defined",
     "output_type": "error",
     "traceback": [
      "\u001b[1;31m---------------------------------------------------------------------------\u001b[0m",
      "\u001b[1;31mNameError\u001b[0m                                 Traceback (most recent call last)",
      "\u001b[1;32m~\\AppData\\Local\\Temp/ipykernel_9876/778878257.py\u001b[0m in \u001b[0;36m<module>\u001b[1;34m\u001b[0m\n\u001b[1;32m----> 1\u001b[1;33m \u001b[0mprint\u001b[0m\u001b[1;33m(\u001b[0m\u001b[0m_cache\u001b[0m\u001b[1;33m)\u001b[0m\u001b[1;33m\u001b[0m\u001b[1;33m\u001b[0m\u001b[0m\n\u001b[0m",
      "\u001b[1;31mNameError\u001b[0m: name '_cache' is not defined"
     ]
    }
   ],
   "source": [
    "print(_cache)"
   ]
  },
  {
   "cell_type": "markdown",
   "id": "97cad873-b43e-42ed-96fc-157c67a99111",
   "metadata": {},
   "source": [
    "$\\textbf{Embedded}$"
   ]
  },
  {
   "cell_type": "code",
   "execution_count": 85,
   "id": "f30588f9-3d59-4a1e-9ef1-544e9358955f",
   "metadata": {},
   "outputs": [
    {
     "data": {
      "text/plain": [
       "120"
      ]
     },
     "execution_count": 85,
     "metadata": {},
     "output_type": "execute_result"
    }
   ],
   "source": [
    "def cache_embedded(func):\n",
    "    def wrapper(n):\n",
    "        if n not in wrapper._cache:\n",
    "            wrapper._cache[n] = func(n)\n",
    "        return wrapper._cache[n]\n",
    "    if not hasattr(wrapper, '_cache'):\n",
    "        setattr(wrapper, '_cache', {})\n",
    "    return wrapper\n",
    "\n",
    "@cache_embedded\n",
    "def factorial(n):\n",
    "    if n == 0:\n",
    "        return 1\n",
    "    else:\n",
    "        return n * factorial(n-1)\n",
    "\n",
    "\n",
    "factorial(5)"
   ]
  },
  {
   "cell_type": "code",
   "execution_count": 86,
   "id": "a3093ef7-0094-4285-8a55-0d1928df52da",
   "metadata": {},
   "outputs": [
    {
     "name": "stdout",
     "output_type": "stream",
     "text": [
      "{0: 1, 1: 1, 2: 2, 3: 6, 4: 24, 5: 120}\n"
     ]
    }
   ],
   "source": [
    "print(factorial._cache)"
   ]
  },
  {
   "cell_type": "code",
   "execution_count": null,
   "id": "5123afb6-1c19-476b-bc9a-787c4b526d14",
   "metadata": {},
   "outputs": [],
   "source": [
    "def cache_embedded(func):\n",
    "    def wrapper(n):\n",
    "        if n not in wrapper._cache:\n",
    "            wrapper._cache[n] = func(n)\n",
    "        return wrapper._cache[n]\n",
    "    if not hasattr(wrapper, '_cache'):\n",
    "        setattr(wrapper, '_cache', {})\n",
    "    return wrapper\n",
    "\n",
    "@cache_embedded\n",
    "def factorial(n):\n",
    "    if n == 0:\n",
    "        return 1\n",
    "    else:\n",
    "        return n * factorial(n-1)\n",
    "\n",
    "\n",
    "factorial(5)"
   ]
  },
  {
   "cell_type": "markdown",
   "id": "8a99a234-f10d-4a6b-9d21-237a52038fd8",
   "metadata": {},
   "source": [
    "### Example usage 4"
   ]
  },
  {
   "cell_type": "code",
   "execution_count": 121,
   "id": "20d8ef26-02cd-45f8-a2aa-6c03476e0ac2",
   "metadata": {},
   "outputs": [],
   "source": [
    "DATABASE = {\n",
    "    'mlewis':       {'name': 'Melissa Lewis',   'email': 'melissa.lewis@nasa.gov'},\n",
    "    'mwatney':      {'name': 'Mark Watney',     'email': 'mark.watney@nasa.gov'},\n",
    "    'avogel':       {'name': 'Alex Vogel',      'email': 'alex.vogel@nasa.gov'},\n",
    "    'rmartinez':    {'name': 'Rick Martinez',   'email': 'rick.martinez@nasa.gov'},\n",
    "    'bjohanssen':   {'name': 'Beth Johanssen',  'email': 'beth.johanssen@nasa.gov'},\n",
    "    'cbeck':        {'name': 'Chris Beck',      'email': 'chris.beck@nasa.gov'},\n",
    "}\n",
    "\n",
    "_cache = {}\n",
    "\n",
    "def cache(func):\n",
    "    def wrapper(username):\n",
    "        if username not in _cache:\n",
    "            _cache[username] = func(username)\n",
    "        return _cache[username]\n",
    "    return wrapper\n",
    "\n",
    "\n",
    "@cache\n",
    "def db_search(username):\n",
    "    return DATABASE[username]['name']"
   ]
  },
  {
   "cell_type": "code",
   "execution_count": 122,
   "id": "3ffceeb5-720d-48a4-b2be-292293b8e247",
   "metadata": {},
   "outputs": [
    {
     "data": {
      "text/plain": [
       "'Mark Watney'"
      ]
     },
     "execution_count": 122,
     "metadata": {},
     "output_type": "execute_result"
    }
   ],
   "source": [
    "db_search('mwatney') # not in cache, searches database and updates cache with result"
   ]
  },
  {
   "cell_type": "code",
   "execution_count": 123,
   "id": "a876a1f4-c2ca-4574-a766-e664f98d5f72",
   "metadata": {},
   "outputs": [
    {
     "data": {
      "text/plain": [
       "'Mark Watney'"
      ]
     },
     "execution_count": 123,
     "metadata": {},
     "output_type": "execute_result"
    }
   ],
   "source": [
    "db_search('mwatney') # found in cache and returns from it, no database search"
   ]
  },
  {
   "cell_type": "code",
   "execution_count": 124,
   "id": "aab60bba-85d0-4e85-b8c0-f76013f920f5",
   "metadata": {},
   "outputs": [
    {
     "name": "stdout",
     "output_type": "stream",
     "text": [
      "{'mwatney': 'Mark Watney'}\n"
     ]
    }
   ],
   "source": [
    "print(_cache)"
   ]
  },
  {
   "cell_type": "markdown",
   "id": "3635e69d-5a60-4d82-9694-54060c93e395",
   "metadata": {},
   "source": [
    "## Decorate method"
   ]
  },
  {
   "cell_type": "code",
   "execution_count": 1,
   "id": "3e00ef6a-a6ef-4b54-ae83-9d0f158605b9",
   "metadata": {},
   "outputs": [
    {
     "data": {
      "text/plain": [
       "'My name... José Jiménez'"
      ]
     },
     "execution_count": 1,
     "metadata": {},
     "output_type": "execute_result"
    }
   ],
   "source": [
    "def run(method):\n",
    "    def wrapper(self, *args, **kwargs):\n",
    "        return method(self, *args, **kwargs)\n",
    "    return wrapper\n",
    "\n",
    "\n",
    "class User:\n",
    "    @run\n",
    "    def say_hello(self, name):\n",
    "        return f'My name... {name}'\n",
    "\n",
    "\n",
    "mark = User()\n",
    "mark.say_hello('José Jiménez')"
   ]
  },
  {
   "cell_type": "markdown",
   "id": "1ba4ef0f-c852-4db7-a38d-9465b84cc9f0",
   "metadata": {},
   "source": [
    "## Decorate class"
   ]
  },
  {
   "cell_type": "code",
   "execution_count": 3,
   "id": "1321e680-b8ce-4871-b38f-15f9897d36d7",
   "metadata": {},
   "outputs": [],
   "source": [
    "def decorator(cls):\n",
    "    class Wrapper(cls):\n",
    "        def __new__(cls, *args, **kwargs):\n",
    "            ...\n",
    "    return Wrapper\n",
    "\n",
    "\n",
    "def decorator(cls):\n",
    "    def wrapper(*args, **kwargs):\n",
    "        instance = cls.__new__(cls, *args, **kwargs)\n",
    "        return instance\n",
    "    return wrapper\n",
    "\n",
    "\n",
    "@decorator\n",
    "class MyClass:\n",
    "    ...\n",
    "\n",
    "\n",
    "my = MyClass()"
   ]
  },
  {
   "cell_type": "code",
   "execution_count": 2,
   "id": "3b80fc84-4301-4ec8-a865-d68c17e8dbea",
   "metadata": {},
   "outputs": [
    {
     "data": {
      "text/plain": [
       "'My name... José Jiménez'"
      ]
     },
     "execution_count": 2,
     "metadata": {},
     "output_type": "execute_result"
    }
   ],
   "source": [
    "def run(cls):\n",
    "    def wrapper(*args, **kwargs):\n",
    "        instance = cls.__new__(cls, *args, **kwargs)\n",
    "        return instance\n",
    "    return wrapper\n",
    "\n",
    "\n",
    "@run\n",
    "class User:\n",
    "    def say_hello(self, name):\n",
    "        return f'My name... {name}'\n",
    "\n",
    "\n",
    "mark = User()\n",
    "mark.say_hello('José Jiménez')"
   ]
  },
  {
   "cell_type": "markdown",
   "id": "592f3879-b3c0-49cc-b768-78420544ceed",
   "metadata": {},
   "source": [
    "## Decorator with arguments"
   ]
  },
  {
   "cell_type": "markdown",
   "id": "1190fed9-0f34-401a-8fa8-d1784ea426cc",
   "metadata": {},
   "source": [
    "Required arguments"
   ]
  },
  {
   "cell_type": "code",
   "execution_count": 12,
   "id": "f5440219-7993-443d-8beb-61a0bae71573",
   "metadata": {},
   "outputs": [],
   "source": [
    "def repeat(num_times):\n",
    "    def decorator_repeat(func):\n",
    "        from functools import wraps\n",
    "        \n",
    "        @wraps(func)\n",
    "        def wrapper(*args, **kwargs):\n",
    "            for _ in range(num_times):\n",
    "                value = func(*args, *kwargs)\n",
    "            return value\n",
    "        return wrapper\n",
    "    return decorator_repeat"
   ]
  },
  {
   "cell_type": "code",
   "execution_count": 31,
   "id": "16081625-4263-4f81-a826-ddda42e49e38",
   "metadata": {},
   "outputs": [],
   "source": [
    "@repeat(3)\n",
    "def print_yeti():\n",
    "    \"\"\"Docstring of print_yeti, thanks to functools.wraps\"\"\"\n",
    "    print('Yeti!')"
   ]
  },
  {
   "cell_type": "code",
   "execution_count": 32,
   "id": "18350300-0bd5-4dd0-816e-4f28dbcc9c17",
   "metadata": {},
   "outputs": [
    {
     "name": "stdout",
     "output_type": "stream",
     "text": [
      "Yeti!\n",
      "Yeti!\n",
      "Yeti!\n"
     ]
    }
   ],
   "source": [
    "print_yeti()"
   ]
  },
  {
   "cell_type": "code",
   "execution_count": 33,
   "id": "2f264702-b5ac-4b5e-9412-f534a596f1c3",
   "metadata": {},
   "outputs": [
    {
     "data": {
      "text/plain": [
       "'Docstring of print_yeti, thanks to functools.wraps'"
      ]
     },
     "execution_count": 33,
     "metadata": {},
     "output_type": "execute_result"
    }
   ],
   "source": [
    "print_yeti.__doc__"
   ]
  },
  {
   "cell_type": "code",
   "execution_count": 34,
   "id": "f0ece277-6fa2-4ba6-8f32-0ef0030adcff",
   "metadata": {},
   "outputs": [
    {
     "data": {
      "text/plain": [
       "'print_yeti'"
      ]
     },
     "execution_count": 34,
     "metadata": {},
     "output_type": "execute_result"
    }
   ],
   "source": [
    "print_yeti.__name__"
   ]
  },
  {
   "cell_type": "code",
   "execution_count": 38,
   "id": "d270a049-c0d0-49ab-9161-dc9f9a45b6e2",
   "metadata": {},
   "outputs": [],
   "source": [
    "def print_yeti():\n",
    "    \"\"\"Docstring of print_yeti, thanks to functools.wraps\"\"\"\n",
    "    print('Yeti!')\n",
    "    \n",
    "print_yeti_3_times = repeat(3)(print_yeti)"
   ]
  },
  {
   "cell_type": "code",
   "execution_count": 39,
   "id": "beb7ba89-7d89-4186-a6a0-6dff13e3f13b",
   "metadata": {},
   "outputs": [
    {
     "name": "stdout",
     "output_type": "stream",
     "text": [
      "Yeti!\n",
      "Yeti!\n",
      "Yeti!\n"
     ]
    }
   ],
   "source": [
    "print_yeti_3_times()"
   ]
  },
  {
   "cell_type": "markdown",
   "id": "f7730110-bc5a-4483-99cc-f2614116aa16",
   "metadata": {},
   "source": [
    "Optional arguments"
   ]
  },
  {
   "cell_type": "code",
   "execution_count": 45,
   "id": "c47f4e4f-cf69-43af-aae6-dc0deace1a23",
   "metadata": {},
   "outputs": [],
   "source": [
    "def name(_func=None, *, key1=5, key2=10):\n",
    "\n",
    "    def decorator_name(func):\n",
    "        def wrapper(*args, **kwargs):\n",
    "            return func(*args, **kwargs)\n",
    "        return wrapper\n",
    "    \n",
    "    if _func is None:\n",
    "        return decorator_name\n",
    "    else:\n",
    "        return decorator_name(_func)"
   ]
  },
  {
   "cell_type": "code",
   "execution_count": 47,
   "id": "d5cf115a-22a4-4a9d-b17f-95cd2253f302",
   "metadata": {},
   "outputs": [],
   "source": [
    "def repeat(_func=None, *, num_times=2):\n",
    "    def decorator_repeat(func):\n",
    "        from functools import wraps\n",
    "        \n",
    "        @wraps(func)\n",
    "        def wrapper_repeat(*args, **kwargs):\n",
    "            for _ in range(num_times):\n",
    "                value = func(*args, **kwargs)\n",
    "            return value\n",
    "        return wrapper_repeat\n",
    "\n",
    "    if _func is None:\n",
    "        return decorator_repeat\n",
    "    else:\n",
    "        return decorator_repeat(_func)\n",
    "\n",
    "@repeat\n",
    "def say_whee():\n",
    "    print(\"Whee!\")\n",
    "\n",
    "\n",
    "@repeat(num_times=3)\n",
    "def greet(name):\n",
    "    print(f\"Hello {name}\")"
   ]
  },
  {
   "cell_type": "code",
   "execution_count": 49,
   "id": "507b4ec6-f7c0-4fd4-85f7-181c500c4e0f",
   "metadata": {},
   "outputs": [
    {
     "name": "stdout",
     "output_type": "stream",
     "text": [
      "Whee!\n",
      "Whee!\n"
     ]
    }
   ],
   "source": [
    "say_whee()"
   ]
  },
  {
   "cell_type": "code",
   "execution_count": 51,
   "id": "fdf99c81-a0c5-4994-bab5-727174bc0ba7",
   "metadata": {},
   "outputs": [
    {
     "name": "stdout",
     "output_type": "stream",
     "text": [
      "Hello Yeti\n",
      "Hello Yeti\n",
      "Hello Yeti\n"
     ]
    }
   ],
   "source": [
    "greet('Yeti')"
   ]
  },
  {
   "cell_type": "code",
   "execution_count": null,
   "id": "cf54f81d-2d4a-4aad-bcf6-53b9f317a6bd",
   "metadata": {},
   "outputs": [],
   "source": []
  },
  {
   "cell_type": "markdown",
   "id": "2dea547c-7f09-4aeb-b709-28e45c0955e4",
   "metadata": {},
   "source": []
  },
  {
   "cell_type": "code",
   "execution_count": null,
   "id": "d5c19900-2c18-4199-ad96-4381eed42fe2",
   "metadata": {},
   "outputs": [],
   "source": []
  }
 ],
 "metadata": {
  "kernelspec": {
   "display_name": "Python 3 (ipykernel)",
   "language": "python",
   "name": "python3"
  },
  "language_info": {
   "codemirror_mode": {
    "name": "ipython",
    "version": 3
   },
   "file_extension": ".py",
   "mimetype": "text/x-python",
   "name": "python",
   "nbconvert_exporter": "python",
   "pygments_lexer": "ipython3",
   "version": "3.9.19"
  },
  "toc-autonumbering": true
 },
 "nbformat": 4,
 "nbformat_minor": 5
}
